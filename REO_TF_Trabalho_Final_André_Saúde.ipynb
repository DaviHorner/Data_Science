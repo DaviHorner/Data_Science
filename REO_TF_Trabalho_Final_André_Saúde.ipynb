{
  "nbformat": 4,
  "nbformat_minor": 0,
  "metadata": {
    "colab": {
      "name": "REO TF - Trabalho Final - André Saúde.ipynb",
      "provenance": [],
      "collapsed_sections": [],
      "include_colab_link": true
    },
    "kernelspec": {
      "name": "python3",
      "display_name": "Python 3"
    },
    "language_info": {
      "name": "python"
    }
  },
  "cells": [
    {
      "cell_type": "markdown",
      "metadata": {
        "id": "view-in-github",
        "colab_type": "text"
      },
      "source": [
        "<a href=\"https://colab.research.google.com/github/DaviHorner/Data_Science/blob/main/REO_TF_Trabalho_Final_Andr%C3%A9_Sa%C3%BAde.ipynb\" target=\"_parent\"><img src=\"https://colab.research.google.com/assets/colab-badge.svg\" alt=\"Open In Colab\"/></a>"
      ]
    },
    {
      "cell_type": "markdown",
      "metadata": {
        "id": "k2A5bD6VJKJf"
      },
      "source": [
        "# PDI - Processamento Digital de Imagens\n",
        "Guia de Estudos\n",
        "\n",
        "Roteiro de Estudos Orientados - Trabalho Final\n",
        "\n",
        "Trabalho Final - Criando animações com técnicas de filtragem, morfologia matemática e segmentação de imagens coloridas.\n",
        "\n",
        "Parte do Guia de Estudos disponível em: [https://bit.ly/3ouwEMg](https://bit.ly/3ouwEMg)"
      ]
    },
    {
      "cell_type": "markdown",
      "metadata": {
        "id": "TMp0vE73KAjK"
      },
      "source": [
        "**AUTOR**: André Vital Saúde"
      ]
    },
    {
      "cell_type": "markdown",
      "metadata": {
        "id": "40C5hN_LJia9"
      },
      "source": [
        "## Objetivo\n",
        "Aplicações de diversos conhecimentos de processamento digital de imagens para a criação de vídeos sintéticos.\n",
        "\n",
        "O objetivo específico é criar um vídeo de animação que transforma gradativamente uma imagem em outra."
      ]
    },
    {
      "cell_type": "markdown",
      "source": [
        "## Partes do Trabalho\n",
        "\n",
        "Este trabalho está dividido em quatro partes:\n",
        "\n",
        "1. Crop e criação de imagens de referência\n",
        "\n",
        "2. Aplicação de erosões sequenciais\n",
        "\n",
        "3. Criação de vídeo\n",
        "\n",
        "4. Extensão para imagens coloridas\n",
        "\n"
      ],
      "metadata": {
        "id": "BwlQAF2a5rrf"
      }
    },
    {
      "cell_type": "markdown",
      "source": [
        "# Parte 1: Crop e criação de imagens de referência\n",
        "\n",
        "Nesta primeira parte faremos:\n",
        "\n",
        "1. Carregamento e exibição das imagens de entrada\n",
        "\n",
        "2. Crop das imagens de entrada. Da seguinte forma:\n",
        "  - Detecção das menores dimensões (ymin,xmin)\n",
        "  - Para cada imagem de entrada, extrair uma janela de tamanho (ymin,xmin) centralizada no centro da imagem original\n",
        "  - Substituir a imagem de entrada pela janela (ymin,xmin)\n",
        "  - Todas as imagens agora são do mesmo tamanho.\n",
        "\n",
        "3. Criação de filtro gaussiano. Criar e exibir a DFT de um filtro suavizante gaussiano do tamanho (ymin,xmin). Sugestão de tamanho do filtro gaussiano: 8x8.\n",
        "\n",
        "4. Exibir DFTs. Para cada imagem, exibir a imagem ao lado de suas respectivas DFTs. Na sequência, para cada imagem, exibir a imagem filtrada pelo filtro gaussiano, ao lado de suas respectivas DFTs.\n",
        "\n",
        "5. Criar imagens de referência. Para cada par de imagens da lista de imagens, calcular o mínimo entre suas imagens filtradas. Esse mínimo será a imagem de referência."
      ],
      "metadata": {
        "id": "X8IBfDSZREL5"
      }
    },
    {
      "cell_type": "markdown",
      "source": [
        "## 1.1. Carregamento e exibição das imagens de entrada\n",
        "Primeiramente, vamos carregar algumas imagens para servir de exemplo, carregando-as em um dicionário Python.\n",
        "\n",
        "Utilizamos agora o módulo *requests*, ao invés de *urllib*, que estava dando erro de [access denied](https://stackoverflow.com/questions/24962039/python-urllib-getting-access-denied-when-browser-works).\n",
        "\n",
        "Primeiro o download."
      ],
      "metadata": {
        "id": "1wIybNVKgwdk"
      }
    },
    {
      "cell_type": "code",
      "source": [
        "imageURLs = {\n",
        "    \"baby\":'https://bit.ly/35kNWF2',\n",
        "    \"cat\":'https://bit.ly/3vUTQaT',\n",
        "    \"grimace\":'https://bit.ly/362Oj7p'\n",
        "}\n",
        "\n",
        "filetype = \".png\"\n",
        "\n",
        "def downloadImages(imageURLdict):\n",
        "  import requests\n",
        "\n",
        "  imageNames = list(imageURLdict.keys())\n",
        "  for imName in imageNames:\n",
        "    r = requests.get(url = imageURLdict[imName])\n",
        "    with open(imName + filetype, 'wb') as outfile:\n",
        "      outfile.write(r.content)\n",
        "\n",
        "  return imageNames\n",
        "\n",
        "imageNames = downloadImages(imageURLs)"
      ],
      "metadata": {
        "id": "BYn4k0qNWwoF"
      },
      "execution_count": null,
      "outputs": []
    },
    {
      "cell_type": "markdown",
      "source": [
        "Depois carregamos as imagens."
      ],
      "metadata": {
        "id": "AlsLlxjxEPLe"
      }
    },
    {
      "cell_type": "code",
      "source": [
        "import numpy as np\n",
        "from PIL import Image\n",
        "\n",
        "def loadImages(imageNames):\n",
        "  images = dict()\n",
        "  for imName in imageNames:\n",
        "    images[imName] = np.asarray(Image.open(imName + filetype))\n",
        "  return images  \n",
        "\n",
        "images = loadImages(imageNames)\n",
        "for imgName in images.keys():\n",
        "  print(\"\\n\" + imgName)\n",
        "  print(images[imgName].shape)"
      ],
      "metadata": {
        "id": "XjoThOtWrf6y"
      },
      "execution_count": null,
      "outputs": []
    },
    {
      "cell_type": "markdown",
      "source": [
        "E visualizamos as imagens com [matplotlib](https://matplotlib.org/stable/api/index.html).\n",
        "\n",
        "Para melhor entendimento do código a seguir, leia a documentação de [subplots](https://matplotlib.org/stable/api/_as_gen/matplotlib.pyplot.subplots.html#)."
      ],
      "metadata": {
        "id": "OLmTodiX2G8J"
      }
    },
    {
      "cell_type": "code",
      "source": [
        "def showImages(imList, ncols=3, titles=\"abcdefghijklmnopqrstuvwxyz\"):\n",
        "  import matplotlib.pyplot as plt\n",
        "  import math\n",
        "\n",
        "  imWidth = 6.4\n",
        "  imHeigth = 4.8\n",
        "  lenTitles = len(titles)\n",
        "  \n",
        "  nrows = math.ceil(len(imList) / ncols)\n",
        "  fig, axs = plt.subplots(nrows, ncols, figsize=(ncols*imWidth, nrows*imHeigth))\n",
        "  if (nrows == ncols == 1):\n",
        "    ax = axs\n",
        "    ax.set_axis_off()\n",
        "    ax.imshow(imList[0], cmap='gray')\n",
        "    ax.set_title(\"(\" + titles[0] + \")\")\n",
        "  else:\n",
        "    axs = axs.reshape(nrows,ncols)\n",
        "    imIndex = 0\n",
        "    for row in range(nrows):\n",
        "      for col in range(ncols):\n",
        "        ax = axs[row,col]\n",
        "        ax.set_axis_off()\n",
        "        if imIndex < len(imList):\n",
        "          ax.imshow(imList[imIndex], cmap='gray')\n",
        "          repeat = 1+ (imIndex // lenTitles) # in case there are more images than the number of titles, replicate titles from the beginning\n",
        "          ax.set_title(\"(\" + (titles[imIndex % len(titles)] * repeat) + \")\")\n",
        "        imIndex+=1\n",
        "\n",
        "  fig.show()\n",
        "\n",
        "def showImagesDict(dic, ncols=3):\n",
        "  showImages(list(dic.values()),ncols,list(dic.keys()))\n",
        "\n",
        "showImagesDict(images,2)  # todas as imagens em 2 colunas"
      ],
      "metadata": {
        "id": "S8j_K1kBqQRW"
      },
      "execution_count": null,
      "outputs": []
    },
    {
      "cell_type": "markdown",
      "source": [
        "## 1.2. Crop das imagens de entrada\n",
        "\n",
        "Da seguinte forma:\n",
        "  - Detecção das menores dimensões (ymin,xmin)\n",
        "  - Para cada imagem de entrada, extrair uma janela de tamanho (ymin,xmin) centralizada no centro da imagem original\n",
        "  - Substituir a imagem de entrada pela janela (ymin,xmin)\n",
        "  - Todas as imagens agora são do mesmo tamanho.\n",
        "\n",
        "Detectamos as menores dimensões y e x."
      ],
      "metadata": {
        "id": "E6SxBmrpsT86"
      }
    },
    {
      "cell_type": "code",
      "source": [
        "def minshape(imagesDict):\n",
        "  minys = minxs = 1000000\n",
        "  # TODO\n",
        "  return (minys,minxs)\n",
        "\n",
        "refshape = minshape(images)\n",
        "print(refshape)"
      ],
      "metadata": {
        "id": "QHEdpjhgnyqf"
      },
      "execution_count": null,
      "outputs": []
    },
    {
      "cell_type": "markdown",
      "source": [
        "Crop de todas as imagens selecionando a janela do tamanho da janela de referência, com centro no centro da imagem sendo cortada."
      ],
      "metadata": {
        "id": "DKUTVfWIsddS"
      }
    },
    {
      "cell_type": "code",
      "source": [
        "def crop(img, newshape):\n",
        "  # TODO\n",
        "  return img\n",
        "\n",
        "def cropImages(images,newshape):\n",
        "  for imName in images.keys():\n",
        "    images[imName] = crop(images[imName],refshape)\n",
        "\n",
        "cropImages(images,refshape)\n",
        "for imgName in images.keys():\n",
        "  print(\"\\n\" + imgName)\n",
        "  print(images[imgName].shape)"
      ],
      "metadata": {
        "id": "N0OqB0tOsAo9"
      },
      "execution_count": null,
      "outputs": []
    },
    {
      "cell_type": "markdown",
      "source": [
        "E visualizamos as imagens cortadas com [matplotlib](https://matplotlib.org/stable/api/index.html).\n",
        "\n",
        "Para melhor entendimento do código a seguir, leia a documentação de [subplots](https://matplotlib.org/stable/api/_as_gen/matplotlib.pyplot.subplots.html#)."
      ],
      "metadata": {
        "id": "jx0lopD-unQT"
      }
    },
    {
      "cell_type": "code",
      "source": [
        "showImagesDict(images,2)  # 2 colunas"
      ],
      "metadata": {
        "id": "cUmd5zEivF_b"
      },
      "execution_count": null,
      "outputs": []
    },
    {
      "cell_type": "markdown",
      "source": [
        "## 1.3. Criação de filtro gaussiano.\n",
        "Criar e exibir a DFT de um filtro suavizante gaussiano do tamanho (ymin,xmin). Sugestão de tamanho do filtro gaussiano: 8x8.\n",
        "\n",
        "Vamos criar esse filtro no domínio da frequência e visualizá-lo.\n",
        "\n",
        "Utilizaremos a implementação da Fast Fourier Transform (FFT) do NumPy (módulo numpy.fft).\n",
        "\n",
        "Vamos reaproveitar do REO P06 as funções úteis para visualizar a DFT:\n",
        "\n",
        "1. *normaliza(f)*, que normaliza os valores de *f* no intervalo de inteiros de 8 bits\n",
        "\n",
        "2. *dftmag(F)*, que extrai o logaritmo da magnitude dos números complexos de *F* e normaliza o resultado (espectro de Fourier)\n",
        "\n",
        "3. *dftshift(mag)*, que desloca o centro do espectro para a coordenada central da imagem\n",
        "\n",
        "4. *dftview(F)*, que usa *dftshift* e *dftmag* para criar uma visualização da DFT"
      ],
      "metadata": {
        "id": "KqI7aoIIUEaf"
      }
    },
    {
      "cell_type": "code",
      "source": [
        "def normaliza(f):\n",
        "    ma = f.max(); mi = f.min()\n",
        "    if ma == mi:\n",
        "        return 127*np.ones(f.shape, dtype=np.uint8)\n",
        "    else:\n",
        "        g = (255 / (ma-mi)) * (f-mi)\n",
        "        return g.astype(np.uint8)\n",
        "\n",
        "def dftmag(F):\n",
        "    # magnitude com log\n",
        "    mag = np.log(np.abs(F)+1)\n",
        "    return normaliza(mag).astype(np.uint8)\n",
        "\n",
        "def dftshift(mag): # mag é a magnitude da DFT\n",
        "    # deslocamento do centro da DFT\n",
        "    sh = np.zeros(mag.shape, dtype=np.uint8) # shift\n",
        "    (ys,xs) = mag.shape\n",
        "    yc = int(ys/2); xc = int(xs/2)\n",
        "    sh[0:yc,xc:xs] = mag[ys-yc:ys,0:xs-xc] # q1 = q3\n",
        "    sh[0:yc,0:xc] = mag[ys-yc:ys,xs-xc:xs] # q2 = q4\n",
        "    sh[yc:ys,0:xc] = mag[0:ys-yc,xs-xc:xs] # q3 = q1\n",
        "    sh[yc:ys,xc:xs] = mag[0:ys-yc,0:xs-xc] # q4 = q2\n",
        "    return sh\n",
        "\n",
        "def dftview(F):\n",
        "    # espectro de Fourier\n",
        "    return dftshift(dftmag(F))\n",
        "\n",
        "def gaussianKernel2d(s):\n",
        "    n = s*s; mu = s/2; cov = [[s, 0], [0, s]]; d = 2\n",
        "    x = np.indices((s,s)).reshape((d, n))\n",
        "    xc = x - mu\n",
        "    k = 1. * xc * np.dot(np.linalg.inv(cov), xc)\n",
        "    k = np.sum(k,axis=0) #the sum is only applied to the rows\n",
        "    g = (1./((2 * np.pi)**(d/2.) * np.sqrt(np.linalg.det(cov)))) * np.exp(-1./2 * k)\n",
        "    return g.reshape((s,s))\n",
        "\n",
        "def resizeKernel(h,newshape):\n",
        "  k = np.zeros(newshape)\n",
        "  (hys,hxs) = h.shape\n",
        "  k[0:hys,0:hxs]=h\n",
        "  return k\n",
        "\n",
        "# TODO utilizar as funções acima pra criar o espectro de Fourier do filtro gaussiano 8x8\n",
        "espectroGaussKernF = images[\"grimace\"] # TODO substituir esta linha\n",
        "\n",
        "showImages([espectroGaussKernF],1)"
      ],
      "metadata": {
        "id": "4Ra6TzZ_lBmC"
      },
      "execution_count": null,
      "outputs": []
    },
    {
      "cell_type": "markdown",
      "source": [
        "## 1.4. Exibir DFTs.\n",
        "Para cada imagem, exibir a imagem ao lado de suas respectivas DFTs. Na sequência, para cada imagem, exibir a imagem filtrada pelo filtro gaussiano, ao lado de suas respectivas DFTs.\n",
        "\n",
        "Primeiro vamos visualizar as imagens e respectivas DFTs."
      ],
      "metadata": {
        "id": "dPkI9YJu3V9p"
      }
    },
    {
      "cell_type": "code",
      "source": [
        "def computeDFTs(imDict):\n",
        "  dftDict = dict()\n",
        "  # TODO reutilizar código anterior. Computar todas as DFTs e coloca-las em um dicionário.\n",
        "  return dftDict\n",
        "\n",
        "dfts = computeDFTs(images)"
      ],
      "metadata": {
        "id": "XpToec30Di_j"
      },
      "execution_count": null,
      "outputs": []
    },
    {
      "cell_type": "code",
      "source": [
        "def viewDFTs(imDict,dftDict, showOrig=True):\n",
        "  # TODO reutilizar código anterior. Computar o espectro de Fourier de cada DFT do dicionário.\n",
        "  titles = [\"baby\"]       # TODO substituir esta linha\n",
        "  imgs = [imDict[\"baby\"]] # TODO substituir esta linha\n",
        "  return imgs,titles\n",
        "\n",
        "imgs,titles = viewDFTs(images,dfts)\n",
        "showImages(imgs,2,titles)"
      ],
      "metadata": {
        "id": "DPxNG1ggT69d"
      },
      "execution_count": null,
      "outputs": []
    },
    {
      "cell_type": "markdown",
      "source": [
        "Agora vamos suavizar todas as imagens e visualiza-las ao lado de suas respectivas DFTs.\n",
        "\n",
        "\n"
      ],
      "metadata": {
        "id": "KaT4Bt9l4VVX"
      }
    },
    {
      "cell_type": "code",
      "source": [
        "\n",
        "# TODO computar suavizadas e respectivas DFTs\n",
        "blurred = images    # TODO substituir esta linha\n",
        "blurredDFTs = dfts  # TODO substituir esta linha\n",
        "\n",
        "imgs,titles = viewDFTs(blurred,blurredDFTs)\n",
        "showImages(imgs,2,titles)"
      ],
      "metadata": {
        "id": "FgYC-hLv4d8_"
      },
      "execution_count": null,
      "outputs": []
    },
    {
      "cell_type": "markdown",
      "source": [
        "## 1.5. Criar imagens de referência.\n",
        "\n",
        "Para cada par de imagens da lista de imagens, calcular o mínimo entre suas imagens filtradas. Esse mínimo será a imagem de referência."
      ],
      "metadata": {
        "id": "m3TulGOk6sXE"
      }
    },
    {
      "cell_type": "code",
      "source": [
        "def minImagesPairs(imgs):\n",
        "  # TODO calcular o mínimo entre cada par de imagens e colocar numa lista\n",
        "  return imgs # TODO substituir esta linha\n",
        "\n",
        "refimages = minImagesPairs(list(blurred.values()))\n",
        "showImages(refimages,3)"
      ],
      "metadata": {
        "id": "rZ9pJEis6z2k"
      },
      "execution_count": null,
      "outputs": []
    },
    {
      "cell_type": "markdown",
      "source": [
        "# Parte 2: Erosões\n",
        "\n",
        "Aguarde..."
      ],
      "metadata": {
        "id": "Wnp0h-DUGLKC"
      }
    },
    {
      "cell_type": "markdown",
      "source": [
        "# Parte 3: Criar vídeo\n",
        "\n",
        "Aguarde..."
      ],
      "metadata": {
        "id": "S68d-2FTEORj"
      }
    },
    {
      "cell_type": "markdown",
      "source": [
        "# Parte 4: Extensão para imagens coloridas\n",
        "\n",
        "Aguarde..."
      ],
      "metadata": {
        "id": "F_iQRQNKRTsA"
      }
    },
    {
      "cell_type": "markdown",
      "source": [
        "## Estude mais...\n",
        "\n",
        "Que outro tipo de operação, além da erosão, você utilizaria para gerar efeitos similares?"
      ],
      "metadata": {
        "id": "0wEPim2geGf1"
      }
    },
    {
      "cell_type": "markdown",
      "metadata": {
        "id": "luj32bcZwLyD"
      },
      "source": [
        "# Referências\n",
        "<a name=\"gonzalez-2010\"></a>**\\[Gonzalez e Woods, 2010\\]** GONZALEZ, R. C.; WOODS, R. E. *Processamento digital de imagens*. 3. ed. São Paulo: Pearson, 2010.\n",
        "\n",
        "<a name=\"lotufo\"></a> **\\[LOTUFO, 2018\\]** LOTUFO, R. A. Roberto Lotufo on GitHub. Disponível em https://github.com/robertoalotufo. Acessado em 18/03/2022.\n",
        "\n",
        "<a name=\"saude-2019\"></a>**\\[Saúde, 2019\\]** SAÚDE, A. V. *Computação gráfica e processamento de imagens*. 1. ed. Londrina: Editora e Distribuidora Educacional SA, 2019. v. 1. 200p."
      ]
    }
  ]
}