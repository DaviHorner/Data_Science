{
  "nbformat": 4,
  "nbformat_minor": 0,
  "metadata": {
    "colab": {
      "name": "Streamlit-DataApp.ipynb",
      "provenance": [],
      "collapsed_sections": [],
      "include_colab_link": true
    },
    "kernelspec": {
      "name": "python3",
      "display_name": "Python 3"
    }
  },
  "cells": [
    {
      "cell_type": "markdown",
      "metadata": {
        "id": "view-in-github",
        "colab_type": "text"
      },
      "source": [
        "<a href=\"https://colab.research.google.com/github/DaviHorner/Data_Science/blob/main/Aula-02/Streamlit_DataApp.ipynb\" target=\"_parent\"><img src=\"https://colab.research.google.com/assets/colab-badge.svg\" alt=\"Open In Colab\"/></a>"
      ]
    },
    {
      "cell_type": "markdown",
      "metadata": {
        "id": "MlBz1002s3SI"
      },
      "source": [
        "#PRIMEIRO DATA APP: COVID-19"
      ]
    },
    {
      "cell_type": "code",
      "metadata": {
        "colab": {
          "base_uri": "https://localhost:8080/"
        },
        "id": "TiRKn1wRVzEa",
        "outputId": "114d6ef2-6d5b-4525-da47-20e83acb12bd"
      },
      "source": [
        "!pip install streamlit\n",
        "!pip install pyngrok==4.1.1"
      ],
      "execution_count": null,
      "outputs": [
        {
          "output_type": "stream",
          "text": [
            "Requirement already satisfied: streamlit in /usr/local/lib/python3.7/dist-packages (0.81.0)\n",
            "Requirement already satisfied: tornado>=5.0 in /usr/local/lib/python3.7/dist-packages (from streamlit) (5.1.1)\n",
            "Requirement already satisfied: python-dateutil in /usr/local/lib/python3.7/dist-packages (from streamlit) (2.8.1)\n",
            "Requirement already satisfied: gitpython in /usr/local/lib/python3.7/dist-packages (from streamlit) (3.1.14)\n",
            "Requirement already satisfied: pyarrow; python_version < \"3.9\" in /usr/local/lib/python3.7/dist-packages (from streamlit) (3.0.0)\n",
            "Requirement already satisfied: pillow>=6.2.0 in /usr/local/lib/python3.7/dist-packages (from streamlit) (7.1.2)\n",
            "Requirement already satisfied: toml in /usr/local/lib/python3.7/dist-packages (from streamlit) (0.10.2)\n",
            "Requirement already satisfied: pandas>=0.21.0 in /usr/local/lib/python3.7/dist-packages (from streamlit) (1.1.5)\n",
            "Requirement already satisfied: altair>=3.2.0 in /usr/local/lib/python3.7/dist-packages (from streamlit) (4.1.0)\n",
            "Requirement already satisfied: cachetools>=4.0 in /usr/local/lib/python3.7/dist-packages (from streamlit) (4.2.1)\n",
            "Requirement already satisfied: packaging in /usr/local/lib/python3.7/dist-packages (from streamlit) (20.9)\n",
            "Requirement already satisfied: protobuf!=3.11,>=3.6.0 in /usr/local/lib/python3.7/dist-packages (from streamlit) (3.12.4)\n",
            "Requirement already satisfied: astor in /usr/local/lib/python3.7/dist-packages (from streamlit) (0.8.1)\n",
            "Requirement already satisfied: pydeck>=0.1.dev5 in /usr/local/lib/python3.7/dist-packages (from streamlit) (0.6.2)\n",
            "Requirement already satisfied: blinker in /usr/local/lib/python3.7/dist-packages (from streamlit) (1.4)\n",
            "Requirement already satisfied: click>=7.0 in /usr/local/lib/python3.7/dist-packages (from streamlit) (7.1.2)\n",
            "Requirement already satisfied: base58 in /usr/local/lib/python3.7/dist-packages (from streamlit) (2.1.0)\n",
            "Requirement already satisfied: requests in /usr/local/lib/python3.7/dist-packages (from streamlit) (2.23.0)\n",
            "Requirement already satisfied: watchdog; platform_system != \"Darwin\" in /usr/local/lib/python3.7/dist-packages (from streamlit) (2.0.3)\n",
            "Requirement already satisfied: tzlocal in /usr/local/lib/python3.7/dist-packages (from streamlit) (1.5.1)\n",
            "Requirement already satisfied: numpy in /usr/local/lib/python3.7/dist-packages (from streamlit) (1.19.5)\n",
            "Requirement already satisfied: validators in /usr/local/lib/python3.7/dist-packages (from streamlit) (0.18.2)\n",
            "Requirement already satisfied: six>=1.5 in /usr/local/lib/python3.7/dist-packages (from python-dateutil->streamlit) (1.15.0)\n",
            "Requirement already satisfied: gitdb<5,>=4.0.1 in /usr/local/lib/python3.7/dist-packages (from gitpython->streamlit) (4.0.7)\n",
            "Requirement already satisfied: pytz>=2017.2 in /usr/local/lib/python3.7/dist-packages (from pandas>=0.21.0->streamlit) (2018.9)\n",
            "Requirement already satisfied: jsonschema in /usr/local/lib/python3.7/dist-packages (from altair>=3.2.0->streamlit) (2.6.0)\n",
            "Requirement already satisfied: toolz in /usr/local/lib/python3.7/dist-packages (from altair>=3.2.0->streamlit) (0.11.1)\n",
            "Requirement already satisfied: jinja2 in /usr/local/lib/python3.7/dist-packages (from altair>=3.2.0->streamlit) (2.11.3)\n",
            "Requirement already satisfied: entrypoints in /usr/local/lib/python3.7/dist-packages (from altair>=3.2.0->streamlit) (0.3)\n",
            "Requirement already satisfied: pyparsing>=2.0.2 in /usr/local/lib/python3.7/dist-packages (from packaging->streamlit) (2.4.7)\n",
            "Requirement already satisfied: setuptools in /usr/local/lib/python3.7/dist-packages (from protobuf!=3.11,>=3.6.0->streamlit) (56.0.0)\n",
            "Requirement already satisfied: ipywidgets>=7.0.0 in /usr/local/lib/python3.7/dist-packages (from pydeck>=0.1.dev5->streamlit) (7.6.3)\n",
            "Requirement already satisfied: traitlets>=4.3.2 in /usr/local/lib/python3.7/dist-packages (from pydeck>=0.1.dev5->streamlit) (5.0.5)\n",
            "Requirement already satisfied: ipykernel>=5.1.2; python_version >= \"3.4\" in /usr/local/lib/python3.7/dist-packages (from pydeck>=0.1.dev5->streamlit) (5.5.3)\n",
            "Requirement already satisfied: urllib3!=1.25.0,!=1.25.1,<1.26,>=1.21.1 in /usr/local/lib/python3.7/dist-packages (from requests->streamlit) (1.24.3)\n",
            "Requirement already satisfied: idna<3,>=2.5 in /usr/local/lib/python3.7/dist-packages (from requests->streamlit) (2.10)\n",
            "Requirement already satisfied: certifi>=2017.4.17 in /usr/local/lib/python3.7/dist-packages (from requests->streamlit) (2020.12.5)\n",
            "Requirement already satisfied: chardet<4,>=3.0.2 in /usr/local/lib/python3.7/dist-packages (from requests->streamlit) (3.0.4)\n",
            "Requirement already satisfied: decorator>=3.4.0 in /usr/local/lib/python3.7/dist-packages (from validators->streamlit) (4.4.2)\n",
            "Requirement already satisfied: smmap<5,>=3.0.1 in /usr/local/lib/python3.7/dist-packages (from gitdb<5,>=4.0.1->gitpython->streamlit) (4.0.0)\n",
            "Requirement already satisfied: MarkupSafe>=0.23 in /usr/local/lib/python3.7/dist-packages (from jinja2->altair>=3.2.0->streamlit) (1.1.1)\n",
            "Requirement already satisfied: nbformat>=4.2.0 in /usr/local/lib/python3.7/dist-packages (from ipywidgets>=7.0.0->pydeck>=0.1.dev5->streamlit) (5.1.3)\n",
            "Requirement already satisfied: jupyterlab-widgets>=1.0.0; python_version >= \"3.6\" in /usr/local/lib/python3.7/dist-packages (from ipywidgets>=7.0.0->pydeck>=0.1.dev5->streamlit) (1.0.0)\n",
            "Requirement already satisfied: ipython>=4.0.0; python_version >= \"3.3\" in /usr/local/lib/python3.7/dist-packages (from ipywidgets>=7.0.0->pydeck>=0.1.dev5->streamlit) (5.5.0)\n",
            "Requirement already satisfied: widgetsnbextension~=3.5.0 in /usr/local/lib/python3.7/dist-packages (from ipywidgets>=7.0.0->pydeck>=0.1.dev5->streamlit) (3.5.1)\n",
            "Requirement already satisfied: ipython-genutils in /usr/local/lib/python3.7/dist-packages (from traitlets>=4.3.2->pydeck>=0.1.dev5->streamlit) (0.2.0)\n",
            "Requirement already satisfied: jupyter-client in /usr/local/lib/python3.7/dist-packages (from ipykernel>=5.1.2; python_version >= \"3.4\"->pydeck>=0.1.dev5->streamlit) (5.3.5)\n",
            "Requirement already satisfied: jupyter-core in /usr/local/lib/python3.7/dist-packages (from nbformat>=4.2.0->ipywidgets>=7.0.0->pydeck>=0.1.dev5->streamlit) (4.7.1)\n",
            "Requirement already satisfied: prompt-toolkit<2.0.0,>=1.0.4 in /usr/local/lib/python3.7/dist-packages (from ipython>=4.0.0; python_version >= \"3.3\"->ipywidgets>=7.0.0->pydeck>=0.1.dev5->streamlit) (1.0.18)\n",
            "Requirement already satisfied: pexpect; sys_platform != \"win32\" in /usr/local/lib/python3.7/dist-packages (from ipython>=4.0.0; python_version >= \"3.3\"->ipywidgets>=7.0.0->pydeck>=0.1.dev5->streamlit) (4.8.0)\n",
            "Requirement already satisfied: pickleshare in /usr/local/lib/python3.7/dist-packages (from ipython>=4.0.0; python_version >= \"3.3\"->ipywidgets>=7.0.0->pydeck>=0.1.dev5->streamlit) (0.7.5)\n",
            "Requirement already satisfied: pygments in /usr/local/lib/python3.7/dist-packages (from ipython>=4.0.0; python_version >= \"3.3\"->ipywidgets>=7.0.0->pydeck>=0.1.dev5->streamlit) (2.6.1)\n",
            "Requirement already satisfied: simplegeneric>0.8 in /usr/local/lib/python3.7/dist-packages (from ipython>=4.0.0; python_version >= \"3.3\"->ipywidgets>=7.0.0->pydeck>=0.1.dev5->streamlit) (0.8.1)\n",
            "Requirement already satisfied: notebook>=4.4.1 in /usr/local/lib/python3.7/dist-packages (from widgetsnbextension~=3.5.0->ipywidgets>=7.0.0->pydeck>=0.1.dev5->streamlit) (5.3.1)\n",
            "Requirement already satisfied: pyzmq>=13 in /usr/local/lib/python3.7/dist-packages (from jupyter-client->ipykernel>=5.1.2; python_version >= \"3.4\"->pydeck>=0.1.dev5->streamlit) (22.0.3)\n",
            "Requirement already satisfied: wcwidth in /usr/local/lib/python3.7/dist-packages (from prompt-toolkit<2.0.0,>=1.0.4->ipython>=4.0.0; python_version >= \"3.3\"->ipywidgets>=7.0.0->pydeck>=0.1.dev5->streamlit) (0.2.5)\n",
            "Requirement already satisfied: ptyprocess>=0.5 in /usr/local/lib/python3.7/dist-packages (from pexpect; sys_platform != \"win32\"->ipython>=4.0.0; python_version >= \"3.3\"->ipywidgets>=7.0.0->pydeck>=0.1.dev5->streamlit) (0.7.0)\n",
            "Requirement already satisfied: terminado>=0.8.1 in /usr/local/lib/python3.7/dist-packages (from notebook>=4.4.1->widgetsnbextension~=3.5.0->ipywidgets>=7.0.0->pydeck>=0.1.dev5->streamlit) (0.9.4)\n",
            "Requirement already satisfied: Send2Trash in /usr/local/lib/python3.7/dist-packages (from notebook>=4.4.1->widgetsnbextension~=3.5.0->ipywidgets>=7.0.0->pydeck>=0.1.dev5->streamlit) (1.5.0)\n",
            "Requirement already satisfied: nbconvert in /usr/local/lib/python3.7/dist-packages (from notebook>=4.4.1->widgetsnbextension~=3.5.0->ipywidgets>=7.0.0->pydeck>=0.1.dev5->streamlit) (5.6.1)\n",
            "Requirement already satisfied: testpath in /usr/local/lib/python3.7/dist-packages (from nbconvert->notebook>=4.4.1->widgetsnbextension~=3.5.0->ipywidgets>=7.0.0->pydeck>=0.1.dev5->streamlit) (0.4.4)\n",
            "Requirement already satisfied: mistune<2,>=0.8.1 in /usr/local/lib/python3.7/dist-packages (from nbconvert->notebook>=4.4.1->widgetsnbextension~=3.5.0->ipywidgets>=7.0.0->pydeck>=0.1.dev5->streamlit) (0.8.4)\n",
            "Requirement already satisfied: pandocfilters>=1.4.1 in /usr/local/lib/python3.7/dist-packages (from nbconvert->notebook>=4.4.1->widgetsnbextension~=3.5.0->ipywidgets>=7.0.0->pydeck>=0.1.dev5->streamlit) (1.4.3)\n",
            "Requirement already satisfied: bleach in /usr/local/lib/python3.7/dist-packages (from nbconvert->notebook>=4.4.1->widgetsnbextension~=3.5.0->ipywidgets>=7.0.0->pydeck>=0.1.dev5->streamlit) (3.3.0)\n",
            "Requirement already satisfied: defusedxml in /usr/local/lib/python3.7/dist-packages (from nbconvert->notebook>=4.4.1->widgetsnbextension~=3.5.0->ipywidgets>=7.0.0->pydeck>=0.1.dev5->streamlit) (0.7.1)\n",
            "Requirement already satisfied: webencodings in /usr/local/lib/python3.7/dist-packages (from bleach->nbconvert->notebook>=4.4.1->widgetsnbextension~=3.5.0->ipywidgets>=7.0.0->pydeck>=0.1.dev5->streamlit) (0.5.1)\n",
            "Requirement already satisfied: pyngrok==4.1.1 in /usr/local/lib/python3.7/dist-packages (4.1.1)\n",
            "Requirement already satisfied: future in /usr/local/lib/python3.7/dist-packages (from pyngrok==4.1.1) (0.16.0)\n",
            "Requirement already satisfied: PyYAML in /usr/local/lib/python3.7/dist-packages (from pyngrok==4.1.1) (3.13)\n"
          ],
          "name": "stdout"
        }
      ]
    },
    {
      "cell_type": "code",
      "metadata": {
        "colab": {
          "base_uri": "https://localhost:8080/"
        },
        "id": "aKSEnTDVVzj5",
        "outputId": "5e206661-7b18-495d-878d-e20dd4681918"
      },
      "source": [
        "%%writefile app.py\n",
        "# -*- coding: utf-8 -*-\n",
        "import pandas as pd\n",
        "import streamlit as st\n",
        "import altair as alt #https://altair-viz.github.io/\n",
        "\n",
        "@st.cache(allow_output_mutation=True)\n",
        "def get_df(type, by=\"global\"):\n",
        "    path = f\"https://raw.githubusercontent.com/CSSEGISandData/COVID-19/master/csse_covid_19_data/csse_covid_19_time_series/time_series_covid19_{type}_{by}.csv\"\n",
        "    df = pd.read_csv(path)\n",
        "    return get_country_df(df, type)\n",
        "\n",
        "def get_country_df(df, type):\n",
        "    cols = [\"Lat\", \"Long\", \"Province/State\"]\n",
        "    df = df.drop(columns=cols).rename(columns={\"Country/Region\": \"country\"})\n",
        "    df[\"country\"] = df[\"country\"].replace({\"US\": \"United States\", \"Korea, South\": \"South Korea\"})\n",
        "    df = df.melt(id_vars=\"country\", var_name=\"date\", value_name=f\"total_{type}\".lower())\n",
        "    df[\"date\"] = pd.to_datetime(df[\"date\"])\n",
        "    df = df.set_index(\"date\").groupby(\"country\").resample(\"D\").sum().reset_index()\n",
        "    df[f\"daily_{type}\"] = df.groupby(\"country\")[f\"total_{type}\"].diff().fillna(0).clip(lower=0)\n",
        "    return df\n",
        "\n",
        "def days_since(df, col, num=100, groupby=\"country\"):\n",
        "    df[\"days_since\"] = df.assign(t=df[col] >= num).groupby(groupby)[\"t\"].cumsum()\n",
        "    return df[df[\"days_since\"] > 0]\n",
        "\n",
        "def chart(df, y, color=\"country\"):\n",
        "    return (\n",
        "        alt.Chart(df, width=750, height=500)\n",
        "        .mark_line(point=True)\n",
        "        .encode(\n",
        "            x=\"days_since\",\n",
        "            y=alt.Y(y),\n",
        "            color=color,\n",
        "            tooltip=[alt.Tooltip(color), alt.Tooltip(y, format=\",\")],\n",
        "        )\n",
        "        .interactive()\n",
        "    )\n",
        "\n",
        "def main():\n",
        "    by = st.radio(\"Choose Analysis\", [\"Country\", \"State\"])\n",
        "    by = by.lower()\n",
        "\n",
        "    if by == \"country\":\n",
        "        confirmed_df = get_df(\"confirmed\", \"global\")\n",
        "        deaths_df = get_df(\"deaths\", \"global\")\n",
        "    else:\n",
        "        confirmed_df = get_df(\"confirmed\", \"US\")\n",
        "        deaths_df = get_df(\"deaths\", \"US\")\n",
        "\n",
        "    chart_type = st.radio(\"Choose Chart Type\", [\"Cumulative\", \"Daily\"])\n",
        "\n",
        "    num_confirmed = st.text_input(\"Number of Confirmed:\", 100)\n",
        "    confirmed_since_df = days_since(\n",
        "        confirmed_df, \"total_confirmed\", num=int(num_confirmed), groupby=by\n",
        "    )\n",
        "\n",
        "    top_5 = (\n",
        "        confirmed_since_df.groupby(by)[\"total_confirmed\"]\n",
        "        .max()\n",
        "        .sort_values(ascending=False)\n",
        "        .head(5)\n",
        "        .index.tolist()\n",
        "    )\n",
        "\n",
        "    select_all = confirmed_since_df[by].unique().tolist()\n",
        "    radio = st.radio(\"\", [\"Top 5\", \"Select All\"])\n",
        "\n",
        "    if radio == \"Top 5\":\n",
        "        multi = st.multiselect(\"\", select_all, default=top_5)\n",
        "    elif radio == \"Select All\":\n",
        "        multi = st.multiselect(\"\", select_all, default=select_all)\n",
        "\n",
        "    confirmed_since_df = confirmed_since_df[confirmed_since_df[by].isin(multi)]\n",
        "\n",
        "    st.markdown(f\"## Confirmed cases by days since {num_confirmed} confirmed 😷\")\n",
        "    if chart_type == \"Cumulative\":\n",
        "        st.altair_chart(chart(confirmed_since_df, \"total_confirmed\", color=by))\n",
        "    else:\n",
        "        st.altair_chart(chart(confirmed_since_df, \"daily_confirmed\", color=by))\n",
        "\n",
        "    num_deaths = st.text_input(\"Number of Death(s):\", 1)\n",
        "    deaths_since_df = days_since(deaths_df, \"total_deaths\", num=int(num_deaths), groupby=by)\n",
        "    deaths_since_df = deaths_since_df[deaths_since_df[by].isin(multi)]\n",
        "\n",
        "    st.markdown(f\"## Deaths by days since {num_deaths} death(s)\")\n",
        "    if chart_type == \"Cumulative\":\n",
        "        st.altair_chart(chart(deaths_since_df, \"total_deaths\", color=by))\n",
        "    else:\n",
        "        st.altair_chart(chart(deaths_since_df, \"daily_deaths\", color=by))\n",
        "\n",
        "    st.markdown(\"## Totals\")\n",
        "    df = (\n",
        "        pd.concat(\n",
        "            [\n",
        "                confirmed_df.groupby(by)[\"total_confirmed\"].max(),\n",
        "                deaths_df.groupby(by)[\"total_deaths\"].max(),\n",
        "            ],\n",
        "            axis=1,\n",
        "        )\n",
        "        .sort_values(\"total_deaths\", ascending=False)\n",
        "        .style.format(\"{:,}\")\n",
        "    )\n",
        "\n",
        "    st.dataframe(df)\n",
        "\n",
        "if __name__ == \"__main__\":\n",
        "    st.title(\"COVID-19 🦠\")\n",
        "    main()"
      ],
      "execution_count": null,
      "outputs": [
        {
          "output_type": "stream",
          "text": [
            "Overwriting app.py\n"
          ],
          "name": "stdout"
        }
      ]
    },
    {
      "cell_type": "code",
      "metadata": {
        "colab": {
          "base_uri": "https://localhost:8080/"
        },
        "id": "iQVWBal5WmIy",
        "outputId": "7ee67c23-4790-4742-b081-76536801624b"
      },
      "source": [
        "!ls"
      ],
      "execution_count": null,
      "outputs": [
        {
          "output_type": "stream",
          "text": [
            "app.py\tsample_data\n"
          ],
          "name": "stdout"
        }
      ]
    },
    {
      "cell_type": "code",
      "metadata": {
        "colab": {
          "base_uri": "https://localhost:8080/"
        },
        "id": "gFfwkI12WLhX",
        "outputId": "6601da9b-d8ea-44c5-bce9-42388ca54165"
      },
      "source": [
        "!ngrok authtoken 1s1klPmg7kDGgx1ZUuNmlM0Twgh_3o3Vy99MeToXTTjsAjqEP"
      ],
      "execution_count": null,
      "outputs": [
        {
          "output_type": "stream",
          "text": [
            "Authtoken saved to configuration file: /root/.ngrok2/ngrok.yml\n"
          ],
          "name": "stdout"
        }
      ]
    },
    {
      "cell_type": "code",
      "metadata": {
        "id": "m7VKOsHgWPmn"
      },
      "source": [
        "!streamlit run app.py &>/dev/null&"
      ],
      "execution_count": null,
      "outputs": []
    },
    {
      "cell_type": "code",
      "metadata": {
        "colab": {
          "base_uri": "https://localhost:8080/"
        },
        "id": "zUYRWZobWRYf",
        "outputId": "74bbe395-3a9d-4ae3-d003-1dad784c319d"
      },
      "source": [
        "!pgrep streamlit"
      ],
      "execution_count": null,
      "outputs": [
        {
          "output_type": "stream",
          "text": [
            "153\n",
            "306\n"
          ],
          "name": "stdout"
        }
      ]
    },
    {
      "cell_type": "code",
      "metadata": {
        "colab": {
          "base_uri": "https://localhost:8080/",
          "height": 35
        },
        "id": "e4bSqn-GWUk3",
        "outputId": "5a96a0af-cc6a-4b1e-838b-ba802701ce9d"
      },
      "source": [
        "from pyngrok import ngrok\n",
        "# Setup a tunnel to the streamlit port 8501\n",
        "public_url = ngrok.connect(port='8501')\n",
        "public_url"
      ],
      "execution_count": null,
      "outputs": [
        {
          "output_type": "execute_result",
          "data": {
            "application/vnd.google.colaboratory.intrinsic+json": {
              "type": "string"
            },
            "text/plain": [
              "'http://9e86476a51f9.ngrok.io'"
            ]
          },
          "metadata": {
            "tags": []
          },
          "execution_count": 7
        }
      ]
    },
    {
      "cell_type": "markdown",
      "metadata": {
        "id": "avY6LrTwWHzr"
      },
      "source": [
        "# codigo separado"
      ]
    },
    {
      "cell_type": "code",
      "metadata": {
        "id": "E4xP8X5-98o6"
      },
      "source": [
        "# -*- coding: utf-8 -*-\n",
        "import pandas as pd\n",
        "import streamlit as st\n",
        "import altair as alt #https://altair-viz.github.io/"
      ],
      "execution_count": null,
      "outputs": []
    },
    {
      "cell_type": "code",
      "metadata": {
        "id": "RjAsi1cxuRfx"
      },
      "source": [
        "@st.cache(allow_output_mutation=True)\n",
        "def get_df(type, by=\"global\"):\n",
        "    path = f\"https://raw.githubusercontent.com/CSSEGISandData/COVID-19/master/csse_covid_19_data/csse_covid_19_time_series/time_series_covid19_{type}_{by}.csv\"\n",
        "    df = pd.read_csv(path)\n",
        "    return get_country_df(df, type)"
      ],
      "execution_count": null,
      "outputs": []
    },
    {
      "cell_type": "code",
      "metadata": {
        "id": "7NQDJzsAuR49"
      },
      "source": [
        "def get_country_df(df, type):\n",
        "    cols = [\"Lat\", \"Long\", \"Province/State\"]\n",
        "    df = df.drop(columns=cols).rename(columns={\"Country/Region\": \"country\"})\n",
        "    df[\"country\"] = df[\"country\"].replace({\"US\": \"United States\", \"Korea, South\": \"South Korea\"})\n",
        "    df = df.melt(id_vars=\"country\", var_name=\"date\", value_name=f\"total_{type}\".lower())\n",
        "    df[\"date\"] = pd.to_datetime(df[\"date\"])\n",
        "    df = df.set_index(\"date\").groupby(\"country\").resample(\"D\").sum().reset_index()\n",
        "    df[f\"daily_{type}\"] = df.groupby(\"country\")[f\"total_{type}\"].diff().fillna(0).clip(lower=0)\n",
        "    return df"
      ],
      "execution_count": null,
      "outputs": []
    },
    {
      "cell_type": "code",
      "metadata": {
        "id": "kq047Us8uVpJ"
      },
      "source": [
        "def days_since(df, col, num=100, groupby=\"country\"):\n",
        "    df[\"days_since\"] = df.assign(t=df[col] >= num).groupby(groupby)[\"t\"].cumsum()\n",
        "    return df[df[\"days_since\"] > 0]"
      ],
      "execution_count": null,
      "outputs": []
    },
    {
      "cell_type": "code",
      "metadata": {
        "id": "SWhfn275uYmc"
      },
      "source": [
        "def chart(df, y, color=\"country\"):\n",
        "    return (\n",
        "        alt.Chart(df, width=750, height=500)\n",
        "        .mark_line(point=True)\n",
        "        .encode(\n",
        "            x=\"days_since\",\n",
        "            y=alt.Y(y),\n",
        "            color=color,\n",
        "            tooltip=[alt.Tooltip(color), alt.Tooltip(y, format=\",\")],\n",
        "        )\n",
        "        .interactive()\n",
        "    )"
      ],
      "execution_count": null,
      "outputs": []
    },
    {
      "cell_type": "code",
      "metadata": {
        "id": "uvEhTh8PueSZ"
      },
      "source": [
        "def main():\n",
        "    by = st.radio(\"Choose Analysis\", [\"Country\", \"State\"])\n",
        "    by = by.lower()\n",
        "\n",
        "    if by == \"country\":\n",
        "        confirmed_df = get_df(\"confirmed\", \"global\")\n",
        "        deaths_df = get_df(\"deaths\", \"global\")\n",
        "    else:\n",
        "        confirmed_df = get_df(\"confirmed\", \"US\")\n",
        "        deaths_df = get_df(\"deaths\", \"US\")\n",
        "\n",
        "    chart_type = st.radio(\"Choose Chart Type\", [\"Cumulative\", \"Daily\"])\n",
        "\n",
        "    num_confirmed = st.text_input(\"Number of Confirmed:\", 100)\n",
        "    confirmed_since_df = days_since(\n",
        "        confirmed_df, \"total_confirmed\", num=int(num_confirmed), groupby=by\n",
        "    )\n",
        "\n",
        "    top_5 = (\n",
        "        confirmed_since_df.groupby(by)[\"total_confirmed\"]\n",
        "        .max()\n",
        "        .sort_values(ascending=False)\n",
        "        .head(5)\n",
        "        .index.tolist()\n",
        "    )\n",
        "\n",
        "    select_all = confirmed_since_df[by].unique().tolist()\n",
        "    radio = st.radio(\"\", [\"Top 5\", \"Select All\"])\n",
        "\n",
        "    if radio == \"Top 5\":\n",
        "        multi = st.multiselect(\"\", select_all, default=top_5)\n",
        "    elif radio == \"Select All\":\n",
        "        multi = st.multiselect(\"\", select_all, default=select_all)\n",
        "\n",
        "    confirmed_since_df = confirmed_since_df[confirmed_since_df[by].isin(multi)]\n",
        "\n",
        "    st.markdown(f\"## Confirmed cases by days since {num_confirmed} confirmed 😷\")\n",
        "    if chart_type == \"Cumulative\":\n",
        "        st.altair_chart(chart(confirmed_since_df, \"total_confirmed\", color=by))\n",
        "    else:\n",
        "        st.altair_chart(chart(confirmed_since_df, \"daily_confirmed\", color=by))\n",
        "\n",
        "    num_deaths = st.text_input(\"Number of Death(s):\", 1)\n",
        "    deaths_since_df = days_since(deaths_df, \"total_deaths\", num=int(num_deaths), groupby=by)\n",
        "    deaths_since_df = deaths_since_df[deaths_since_df[by].isin(multi)]\n",
        "\n",
        "    st.markdown(f\"## Deaths by days since {num_deaths} death(s)\")\n",
        "    if chart_type == \"Cumulative\":\n",
        "        st.altair_chart(chart(deaths_since_df, \"total_deaths\", color=by))\n",
        "    else:\n",
        "        st.altair_chart(chart(deaths_since_df, \"daily_deaths\", color=by))\n",
        "\n",
        "    st.markdown(\"## Totals\")\n",
        "    df = (\n",
        "        pd.concat(\n",
        "            [\n",
        "                confirmed_df.groupby(by)[\"total_confirmed\"].max(),\n",
        "                deaths_df.groupby(by)[\"total_deaths\"].max(),\n",
        "            ],\n",
        "            axis=1,\n",
        "        )\n",
        "        .sort_values(\"total_deaths\", ascending=False)\n",
        "        .style.format(\"{:,}\")\n",
        "    )\n",
        "\n",
        "    st.dataframe(df)"
      ],
      "execution_count": null,
      "outputs": []
    },
    {
      "cell_type": "code",
      "metadata": {
        "id": "8PJkW47cugcd"
      },
      "source": [
        "if __name__ == \"__main__\":\n",
        "    st.title(\"COVID-19 🦠\")\n",
        "    main()"
      ],
      "execution_count": null,
      "outputs": []
    }
  ]
}